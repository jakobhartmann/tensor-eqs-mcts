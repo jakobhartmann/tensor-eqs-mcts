{
 "cells": [
  {
   "cell_type": "markdown",
   "metadata": {},
   "source": [
    "# Deduplicate Experimental Results\n",
    "\n",
    "If you had to restart the experiments, it is possible that the .txt result files contain duplicates. This can cause the JSON decoder in the analysis notebook to throw an error. You can use this Jupyter notebook to deduplicate the data. The script always keeps the first run."
   ]
  },
  {
   "cell_type": "code",
   "execution_count": null,
   "metadata": {},
   "outputs": [],
   "source": [
    "# Imports\n",
    "import os\n",
    "import json"
   ]
  },
  {
   "cell_type": "code",
   "execution_count": null,
   "metadata": {},
   "outputs": [],
   "source": [
    "# Settings\n",
    "base_path_mcts = './tensor_eqs_mcts'\n",
    "experiments = ['egg_greedy_egg_greedy', 'egg_greedy_tensat_ilp', 'new_greedy_new_greedy', 'new_greedy_tensat_ilp', 'tensat_ilp_tensat_ilp']\n",
    "models = ['bert', 'inceptionv3', 'resnext50', 'nasneta', 'vgg', 'mobilenetv2', 'resnet50', 'squeezenet', 'nasrnn']\n",
    "num_seeds = 5"
   ]
  },
  {
   "cell_type": "code",
   "execution_count": null,
   "metadata": {},
   "outputs": [],
   "source": [
    "# Delete duplicate data\n",
    "for experiment in experiments:\n",
    "    for model in models:\n",
    "        for seed in range(0, num_seeds):\n",
    "            output_dir = os.path.join(base_path_mcts, experiment, model + '_' + str(seed))\n",
    "\n",
    "            try:\n",
    "                ### Settings: only keep the first line ###\n",
    "                filename = os.path.join(output_dir, 'settings.txt')\n",
    "\n",
    "                # Open the file and read the first line\n",
    "                with open(filename, 'r') as file:\n",
    "                    first_line = file.readline()\n",
    "\n",
    "                # Open the file in write mode and write the first line\n",
    "                with open(filename, 'w') as file:\n",
    "                    file.write(first_line)\n",
    "\n",
    "\n",
    "                ### RMCTS stats: only keep the first line ###\n",
    "                filename = os.path.join(output_dir, 'rmcts_stats.txt')\n",
    "\n",
    "                # Open the file and read the first line\n",
    "                with open(filename, 'r') as file:\n",
    "                    first_line = file.readline()\n",
    "\n",
    "                # Open the file in write mode and write the first line\n",
    "                with open(filename, 'w') as file:\n",
    "                    file.write(first_line)\n",
    "\n",
    "\n",
    "                ### RMCTS iteration data: delete everything after the total planning time decreases ###\n",
    "                filename = os.path.join(output_dir, 'rmcts_iteration_data.txt')\n",
    "\n",
    "                with open(filename, 'r') as infile:\n",
    "                    lines = infile.readlines()\n",
    "                \n",
    "                with open(filename, 'w') as outfile:\n",
    "                    previous_total_planning_time = -1\n",
    "                    for line in lines:\n",
    "                        try:\n",
    "                            data = json.loads(line)\n",
    "                            current_total_planning_time = data.get('total_planning_time', -1)\n",
    "                            \n",
    "                            if current_total_planning_time >= previous_total_planning_time:\n",
    "                                outfile.write(line)\n",
    "                                previous_total_planning_time = current_total_planning_time\n",
    "                            else:\n",
    "                                # Stop processing and break the loop\n",
    "                                break\n",
    "                        except json.JSONDecodeError:\n",
    "                            print(f'Error decoding JSON in line: {line}')\n",
    "                            continue\n",
    "\n",
    "            except Exception as e:\n",
    "                print('Exception! Experiment: ', experiment, ', model: ', model, ', seed: ', seed, '. Error message: ', e)"
   ]
  }
 ],
 "metadata": {
  "kernelspec": {
   "display_name": "venv",
   "language": "python",
   "name": "venv"
  }
 },
 "nbformat": 4,
 "nbformat_minor": 2
}
